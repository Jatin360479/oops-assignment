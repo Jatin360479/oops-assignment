{
  "nbformat": 4,
  "nbformat_minor": 0,
  "metadata": {
    "colab": {
      "provenance": []
    },
    "kernelspec": {
      "name": "python3",
      "display_name": "Python 3"
    },
    "language_info": {
      "name": "python"
    }
  },
  "cells": [
    {
      "cell_type": "markdown",
      "source": [
        "### **Question 1 : What are the five key concepts of Object-Oriented Programming (OOP)?**"
      ],
      "metadata": {
        "id": "OU7m2fffwdWv"
      }
    },
    {
      "cell_type": "markdown",
      "source": [
        "The five key concepts of Object-Oriented Programming (OOP) are:\n",
        "\n",
        "1. Abstraction: Hiding complex implementation details and showing only essential information to the user.\n",
        "2. Encapsulation: Combining data and methods that operate on that data within a single unit (class).\n",
        "3. Inheritance: Creating new classes (child classes) from existing classes (parent classes) to reuse code and extend functionality.\n",
        "4. Polymorphism: The ability of an object to take on many forms. It allows different objects to respond to the same method call in their own unique way.\n",
        "5. Association: Representing relationships between objects.\n",
        "\n"
      ],
      "metadata": {
        "id": "LHUNnBG1wvNO"
      }
    },
    {
      "cell_type": "markdown",
      "source": [
        "### **Question 2 : Write a Python class for a `Car` with attributes for `make`, `model`, and `year`. Include a method to display the car's information.**"
      ],
      "metadata": {
        "id": "0xCc3e4UxIy8"
      }
    },
    {
      "cell_type": "code",
      "execution_count": null,
      "metadata": {
        "colab": {
          "base_uri": "https://localhost:8080/"
        },
        "id": "vNzUpu_WwVGi",
        "outputId": "601db84a-e62a-4a3e-d0df-4bafa03f3db2"
      },
      "outputs": [
        {
          "output_type": "stream",
          "name": "stdout",
          "text": [
            "Make: Toyota\n",
            "Model: Camry\n",
            "Year: 2023\n"
          ]
        }
      ],
      "source": [
        "# the car's information.\n",
        "\n",
        "class Car:\n",
        "  def __init__(self, make, model, year):\n",
        "    self.make = make\n",
        "    self.model = model\n",
        "    self.year = year\n",
        "\n",
        "  def display_info(self):\n",
        "    print(f\"Make: {self.make}\")\n",
        "    print(f\"Model: {self.model}\")\n",
        "    print(f\"Year: {self.year}\")\n",
        "\n",
        "\n",
        "# Example usage\n",
        "my_car = Car(\"Toyota\", \"Camry\", 2023)\n",
        "my_car.display_info()\n"
      ]
    },
    {
      "cell_type": "markdown",
      "source": [
        "### **Question 3 : Explain the difference between instance methods and class methods. Provide an example of each**"
      ],
      "metadata": {
        "id": "QVLCBtEJyX4t"
      }
    },
    {
      "cell_type": "code",
      "source": [
        "# Instance Methods vs. Class Methods\n",
        "\n",
        "# Instance Methods:\n",
        "# - Operate on specific instances of a class.\n",
        "# - The first parameter is conventionally named `self`, representing the instance.\n",
        "# - Used to access and modify instance-specific attributes and perform actions related to the instance.\n",
        "\n",
        "# Example:\n",
        "class Dog:\n",
        "    def __init__(self, name, breed):\n",
        "        self.name = name\n",
        "        self.breed = breed\n",
        "\n",
        "    def bark(self):\n",
        "        print(f\"{self.name} barks!\")\n",
        "\n",
        "\n",
        "my_dog = Dog(\"Buddy\", \"Golden Retriever\")\n",
        "my_dog.bark()  # Calling an instance method on an instance\n",
        "\n",
        "# Class Methods:\n",
        "# - Operate on the class itself, not individual instances.\n",
        "# - Decorated with the `@classmethod` decorator.\n",
        "# - The first parameter is conventionally named `cls`, representing the class.\n",
        "# - Often used to create factory methods for creating instances of the class in different ways or to access or modify class-level attributes.\n",
        "\n",
        "# Example:\n",
        "class Circle:\n",
        "    pi = 3.14159\n",
        "\n",
        "    def __init__(self, radius):\n",
        "        self.radius = radius\n",
        "\n",
        "    def calculate_area(self):\n",
        "        return Circle.pi * self.radius * self.radius\n",
        "\n",
        "    @classmethod\n",
        "    def get_pi(cls):\n",
        "        return cls.pi\n",
        "\n",
        "\n",
        "print(Circle.get_pi())  # Calling a class method on the class\n"
      ],
      "metadata": {
        "colab": {
          "base_uri": "https://localhost:8080/"
        },
        "id": "MuV7GrL_ymVI",
        "outputId": "ec2c5386-6c99-4487-dcbe-a0ed42e63be6"
      },
      "execution_count": null,
      "outputs": [
        {
          "output_type": "stream",
          "name": "stdout",
          "text": [
            "Buddy barks!\n",
            "3.14159\n"
          ]
        }
      ]
    },
    {
      "cell_type": "markdown",
      "source": [
        "### **Question 4 : How does Python implement method overloading? Give an example.**"
      ],
      "metadata": {
        "id": "P-i_tPUxymy3"
      }
    },
    {
      "cell_type": "code",
      "source": [
        "\n",
        "# Python does not directly support method overloading in the same way as some other languages like Java or C++.\n",
        "# In Python, if you define multiple methods with the same name, the later definition will override the earlier one.\n",
        "\n",
        "# However, you can achieve similar functionality using default argument values or variable-length argument lists.\n",
        "\n",
        "\n",
        "class Calculator:\n",
        "    def add(self, x, y, z=None):\n",
        "        if z is not None:\n",
        "            return x + y + z\n",
        "        else:\n",
        "            return x + y\n",
        "\n",
        "calc = Calculator()\n",
        "print(calc.add(2, 3))  # Calls add(x, y)\n",
        "print(calc.add(2, 3, 4))  # Calls add(x, y, z)\n",
        "\n",
        "# Another approach is to use variable-length argument lists:\n",
        "\n",
        "class Calculator2:\n",
        "    def add(self, *args):\n",
        "        total = 0\n",
        "        for arg in args:\n",
        "            total += arg\n",
        "        return total\n",
        "\n",
        "calc2 = Calculator2()\n",
        "print(calc2.add(2, 3))\n",
        "print(calc2.add(2, 3, 4, 5))\n",
        "\n",
        "\n",
        "# In essence, Python achieves method overloading through dynamic typing and argument handling.\n",
        "# By carefully using default values or variable-length argument lists, you can create methods that behave\n",
        "# differently based on the number and types of arguments passed to them.\n"
      ],
      "metadata": {
        "colab": {
          "base_uri": "https://localhost:8080/"
        },
        "id": "EexVkpjtyngY",
        "outputId": "7cd8bab9-e3ab-4878-b533-e0266fa2b9a5"
      },
      "execution_count": null,
      "outputs": [
        {
          "output_type": "stream",
          "name": "stdout",
          "text": [
            "5\n",
            "9\n",
            "5\n",
            "14\n"
          ]
        }
      ]
    },
    {
      "cell_type": "markdown",
      "source": [
        "### **Question 5 : What are the three types of access modifiers in Python? How are they denoted?**"
      ],
      "metadata": {
        "id": "q4aXoRbJzObc"
      }
    },
    {
      "cell_type": "code",
      "source": [
        "# In Python, there are three types of access modifiers:\n",
        "\n",
        "# 1. Public:\n",
        "#    - Members declared as public are accessible from anywhere, both within and outside the class.\n",
        "#    - By default, all members in a Python class are considered public.\n",
        "#    - No special syntax is needed to declare a member as public.\n",
        "\n",
        "# Example:\n",
        "class MyClass:\n",
        "    def __init__(self):\n",
        "        self.public_attribute = 10\n",
        "\n",
        "    def public_method(self):\n",
        "        print(\"This is a public method\")\n",
        "\n",
        "\n",
        "my_object = MyClass()\n",
        "print(my_object.public_attribute)  # Accessible from outside the class\n",
        "my_object.public_method()  # Accessible from outside the class\n",
        "\n",
        "\n",
        "# 2. Protected:\n",
        "#    - Members declared as protected are intended to be accessible only within the class and its subclasses (inherited classes).\n",
        "#    - They are denoted by a single leading underscore (_).\n",
        "#    - While Python does not enforce strict access control, it's a convention to indicate that these members should not be accessed directly from outside the class.\n",
        "\n",
        "# Example:\n",
        "class MyParentClass:\n",
        "    def __init__(self):\n",
        "        self._protected_attribute = 20\n",
        "\n",
        "    def _protected_method(self):\n",
        "        print(\"This is a protected method\")\n",
        "\n",
        "\n",
        "class MyChildClass(MyParentClass):\n",
        "    def access_protected_member(self):\n",
        "        print(self._protected_attribute)  # Accessible within the subclass\n",
        "        self._protected_method()  # Accessible within the subclass\n",
        "\n",
        "\n",
        "my_child_object = MyChildClass()\n",
        "my_child_object.access_protected_member()\n",
        "# print(my_child_object._protected_attribute)  # Although accessible, it's not recommended\n",
        "\n",
        "\n",
        "# 3. Private:\n",
        "#    - Members declared as private are intended to be accessible only within the class they are defined in.\n",
        "#    - They are denoted by a double leading underscore (__).\n",
        "#    - Python implements name mangling for private members, making them less directly accessible from outside the class.\n",
        "\n",
        "# Example:\n",
        "class MyClass:\n",
        "    def __init__(self):\n",
        "        self.__private_attribute = 30\n",
        "        print(self.__private_attribute)\n",
        "\n",
        "    def __private_method(self):\n",
        "        print(\"This is a private method\")\n",
        "\n",
        "\n",
        "my_object = MyClass()\n",
        "my_object._MyClass__private_method()\n",
        "# print(my_object.__private_attribute) # Accessing this will raise an AttributeError\n",
        "# my_object.__private_method() # Accessing this will raise an AttributeError\n",
        "\n",
        "\n",
        "# Note that these are conventions in Python. While name mangling helps make private members less accessible,\n",
        "# they can still be accessed using a modified name (e.g., _MyClass__private_attribute).\n",
        "\n",
        "# It's generally a good practice to adhere to these conventions for clarity and maintainability,\n",
        "# even though Python does not strictly enforce them like some other languages.\n",
        "\n",
        "\n"
      ],
      "metadata": {
        "colab": {
          "base_uri": "https://localhost:8080/"
        },
        "id": "HQe0hL8UzM8u",
        "outputId": "02763dba-6591-47dd-e17d-288309d95714"
      },
      "execution_count": null,
      "outputs": [
        {
          "output_type": "stream",
          "name": "stdout",
          "text": [
            "10\n",
            "This is a public method\n",
            "20\n",
            "This is a protected method\n",
            "30\n",
            "This is a private method\n"
          ]
        }
      ]
    },
    {
      "cell_type": "markdown",
      "source": [
        "### **Question 6 : Describe the five types of inheritance in Python. Provide a simple example of multiple inheritance.**"
      ],
      "metadata": {
        "id": "BMGa5dFz0tD_"
      }
    },
    {
      "cell_type": "code",
      "source": [
        "# Five Types of Inheritance in Python:\n",
        "\n",
        "# 1. Single Inheritance: A class inherits from a single parent class.\n",
        "# Example:\n",
        "class Animal:\n",
        "    def __init__(self, name):\n",
        "        self.name = name\n",
        "\n",
        "    def eat(self):\n",
        "        print(\"Eating...\")\n",
        "\n",
        "\n",
        "class Dog(Animal):\n",
        "    def bark(self):\n",
        "        print(\"Woof!\")\n",
        "\n",
        "\n",
        "# 2. Multiple Inheritance: A class inherits from multiple parent classes.\n",
        "class Flyer:\n",
        "    def fly(self):\n",
        "        print(\"Flying...\")\n",
        "\n",
        "\n",
        "class Swimmer:\n",
        "    def swim(self):\n",
        "        print(\"Swimming...\")\n",
        "\n",
        "\n",
        "class Duck(Flyer, Swimmer):\n",
        "    pass\n",
        "\n",
        "\n",
        "# 3. Multilevel Inheritance: A class inherits from a parent class, which in turn inherits from another class.\n",
        "class Bird(Animal):\n",
        "    def chirp(self):\n",
        "        print(\"Chirping...\")\n",
        "\n",
        "\n",
        "class Penguin(Bird):\n",
        "    def slide(self):\n",
        "        print(\"Sliding...\")\n",
        "\n",
        "\n",
        "# 4. Hierarchical Inheritance: Multiple classes inherit from a single parent class.\n",
        "class Cat(Animal):\n",
        "    def meow(self):\n",
        "        print(\"Meow!\")\n",
        "\n",
        "\n",
        "# 5. Hybrid Inheritance: A combination of different types of inheritance.\n",
        "# (e.g., multiple inheritance and multilevel inheritance).\n",
        "\n",
        "# Example of Multiple Inheritance\n",
        "b1 = Bird(\"Sparrow\")\n",
        "b1.eat()\n",
        "b1.chirp()\n",
        "\n",
        "# Example of Multilevel Inheritance\n",
        "duck = Duck()\n",
        "duck.fly()\n",
        "duck.swim()\n",
        "\n",
        "\n",
        "\n"
      ],
      "metadata": {
        "colab": {
          "base_uri": "https://localhost:8080/"
        },
        "id": "5kzPCwvD0v3j",
        "outputId": "031125f1-1fc0-4c20-cf24-a2d6e9663211"
      },
      "execution_count": null,
      "outputs": [
        {
          "output_type": "stream",
          "name": "stdout",
          "text": [
            "Eating...\n",
            "Chirping...\n",
            "Flying...\n",
            "Swimming...\n"
          ]
        }
      ]
    },
    {
      "cell_type": "markdown",
      "source": [
        "### **Question 7 : What is the Method Resolution Order (MRO) in Python? How can you retrieve it programmatically?**"
      ],
      "metadata": {
        "id": "DlJ1bmDt0tBM"
      }
    },
    {
      "cell_type": "code",
      "source": [
        "# Method Resolution Order (MRO) in Python\n",
        "\n",
        "# The Method Resolution Order (MRO) in Python defines the order in which methods are searched\n",
        "# for in a class hierarchy when a method is called on an object. This is particularly important\n",
        "# in cases of multiple inheritance, where a class can inherit from multiple parent classes.\n",
        "# The MRO ensures that methods are called in a consistent and predictable manner.\n",
        "\n",
        "# You can retrieve the MRO of a class programmatically using the `__mro__` attribute or the `mro()` method.\n",
        "\n",
        "\n",
        "class A:\n",
        "    pass\n",
        "\n",
        "\n",
        "class B:\n",
        "    pass\n",
        "\n",
        "\n",
        "class C(A, B):\n",
        "    pass\n",
        "\n",
        "\n",
        "print(C.__mro__)  # Using the __mro__ attribute\n",
        "print(C.mro())  # Using the mro() method\n",
        "\n",
        "\n",
        "# The output will show the order in which Python would search for methods in the class C.\n",
        "# In this case, it will search in C, then A, then B, and finally object (the base class).\n"
      ],
      "metadata": {
        "colab": {
          "base_uri": "https://localhost:8080/"
        },
        "id": "Xc3LwEGize3M",
        "outputId": "ec3e8a7b-6b4b-4d55-9a8a-62b053355e9d"
      },
      "execution_count": null,
      "outputs": [
        {
          "output_type": "stream",
          "name": "stdout",
          "text": [
            "(<class '__main__.C'>, <class '__main__.A'>, <class '__main__.B'>, <class 'object'>)\n",
            "[<class '__main__.C'>, <class '__main__.A'>, <class '__main__.B'>, <class 'object'>]\n"
          ]
        }
      ]
    },
    {
      "cell_type": "markdown",
      "source": [
        "### **Question 8 : Create an abstract base class `Shape` with an abstract method `area()`. Then create two subclasses `Circle` and `Rectangle` that implement the `area()` method.**"
      ],
      "metadata": {
        "id": "jQDRyYI88wJ4"
      }
    },
    {
      "cell_type": "code",
      "source": [
        "# `Circle` and `Rectangle` that implement the `area()` method.\n",
        "\n",
        "from abc import ABC, abstractmethod\n",
        "import math\n",
        "\n",
        "class Shape(ABC):\n",
        "    @abstractmethod\n",
        "    def area(self):\n",
        "        pass\n",
        "\n",
        "\n",
        "class Circle(Shape):\n",
        "    def __init__(self, radius):\n",
        "        self.radius = radius\n",
        "\n",
        "    def area(self):\n",
        "        return math.pi * self.radius * self.radius\n",
        "\n",
        "\n",
        "class Rectangle(Shape):\n",
        "    def __init__(self, length, width):\n",
        "        self.length = length\n",
        "        self.width = width\n",
        "\n",
        "    def area(self):\n",
        "        return self.length * self.width\n",
        "\n",
        "\n",
        "# Example usage:\n",
        "circle = Circle(5)\n",
        "print(f\"Circle Area: {circle.area()}\")\n",
        "\n",
        "rectangle = Rectangle(4, 6)\n",
        "print(f\"Rectangle Area: {rectangle.area()}\")\n"
      ],
      "metadata": {
        "colab": {
          "base_uri": "https://localhost:8080/"
        },
        "id": "ZY-oRIwy8uol",
        "outputId": "5431e9b3-7b16-493e-ad70-b42a9d5a6596"
      },
      "execution_count": null,
      "outputs": [
        {
          "output_type": "stream",
          "name": "stdout",
          "text": [
            "Circle Area: 78.53981633974483\n",
            "Rectangle Area: 24\n"
          ]
        }
      ]
    },
    {
      "cell_type": "markdown",
      "source": [
        "### **Question 9 : Demonstrate polymorphism by creating a function that can work with different shape objects to calculate and print their areas.**"
      ],
      "metadata": {
        "id": "LJix5Ilt9JCv"
      }
    },
    {
      "cell_type": "code",
      "source": [
        "from abc import ABC, abstractmethod\n",
        "import math\n",
        "\n",
        "class Shape(ABC):\n",
        "    @abstractmethod\n",
        "    def area(self):\n",
        "        pass\n",
        "\n",
        "class Circle(Shape):\n",
        "    def __init__(self, radius):\n",
        "        self.radius = radius\n",
        "\n",
        "    def area(self):\n",
        "        return math.pi * self.radius * self.radius\n",
        "\n",
        "class Rectangle(Shape):\n",
        "    def __init__(self, length, width):\n",
        "        self.length = length\n",
        "        self.width = width\n",
        "\n",
        "    def area(self):\n",
        "        return self.length * self.width\n",
        "\n",
        "def print_area(shape):\n",
        "    \"\"\"\n",
        "    Demonstrates polymorphism by working with different shape objects.\n",
        "    \"\"\"\n",
        "    print(f\"Area: {shape.area()}\")\n",
        "\n",
        "# Create instances of different shapes\n",
        "circle = Circle(5)\n",
        "rectangle = Rectangle(4, 6)\n",
        "\n",
        "\n",
        "# Use the print_area function with different shape objects\n",
        "print_area(circle)\n",
        "print_area(rectangle)\n"
      ],
      "metadata": {
        "colab": {
          "base_uri": "https://localhost:8080/"
        },
        "id": "NXxoRfAN9j33",
        "outputId": "11a79966-2d27-4bcd-b9eb-69a51aa45c78"
      },
      "execution_count": null,
      "outputs": [
        {
          "output_type": "stream",
          "name": "stdout",
          "text": [
            "Area: 78.53981633974483\n",
            "Area: 24\n"
          ]
        }
      ]
    },
    {
      "cell_type": "markdown",
      "source": [
        "### **Question 10 : Implement encapsulation in a `BankAccount` class with private attributes for `balance` and `account_number`. Include methods for deposit, withdrawal, and balance inquiry**"
      ],
      "metadata": {
        "id": "d0IOmgqP-IsJ"
      }
    },
    {
      "cell_type": "code",
      "source": [
        "class BankAccount:\n",
        "    def __init__(self, account_number, initial_balance=0):\n",
        "        self.__account_number = account_number  # Private attribute\n",
        "        self.__balance = initial_balance  # Private attribute\n",
        "\n",
        "    def deposit(self, amount):\n",
        "        if amount > 0:\n",
        "            self.__balance += amount\n",
        "            print(f\"Deposited ${amount}. New balance: ${self.__balance}\")\n",
        "        else:\n",
        "            print(\"Invalid deposit amount.\")\n",
        "\n",
        "    def withdraw(self, amount):\n",
        "        if 0 < amount <= self.__balance:\n",
        "            self.__balance -= amount\n",
        "            print(f\"Withdrew ${amount}. New balance: ${self.__balance}\")\n",
        "        else:\n",
        "            print(\"Insufficient funds or invalid withdrawal amount.\")\n",
        "\n",
        "    def get_balance(self):\n",
        "        return self.__balance\n",
        "\n",
        "    def get_account_number(self):\n",
        "        return self.__account_number\n",
        "\n",
        "\n",
        "# Example usage\n",
        "my_account = BankAccount(\"1234567890\", 1000)\n",
        "my_account.deposit(500)\n",
        "my_account.withdraw(200)\n",
        "print(f\"Current balance: ${my_account.get_balance()}\")\n",
        "print(f\"Account number: {my_account.get_account_number()}\")\n",
        "\n"
      ],
      "metadata": {
        "colab": {
          "base_uri": "https://localhost:8080/"
        },
        "id": "7Ir-lfNP9rBn",
        "outputId": "12b52b06-a9f4-465c-bcd2-fa9f81899fa8"
      },
      "execution_count": null,
      "outputs": [
        {
          "output_type": "stream",
          "name": "stdout",
          "text": [
            "Deposited $500. New balance: $1500\n",
            "Withdrew $200. New balance: $1300\n",
            "Current balance: $1300\n",
            "Account number: 1234567890\n"
          ]
        }
      ]
    },
    {
      "cell_type": "markdown",
      "source": [
        "### **Question 11 : Write a class that overrides the `__str__` and `__add__` magic methods. What will these methods allow you to do?**"
      ],
      "metadata": {
        "id": "x_G38THB-dzH"
      }
    },
    {
      "cell_type": "code",
      "source": [
        "class Point:\n",
        "    def __init__(self, x, y):\n",
        "        self.x = x\n",
        "        self.y = y\n",
        "\n",
        "    def __str__(self):\n",
        "        return f\"Point({self.x}, {self.y})\"\n",
        "\n",
        "    def __add__(self, other):\n",
        "        if isinstance(other, Point):\n",
        "            return Point(self.x + other.x, self.y + other.y)\n",
        "        else:\n",
        "            return NotImplemented\n",
        "\n",
        "\n",
        "# Example usage\n",
        "p1 = Point(1, 2)\n",
        "p2 = Point(3, 4)\n",
        "\n",
        "print(p1)  # Calls the __str__ method to print a user-friendly representation\n",
        "\n",
        "p3 = p1 + p2  # Calls the __add__ method to add two Point objects\n",
        "print(p3)\n",
        "\n",
        "\n",
        "# What these methods allow you to do:\n",
        "# - __str__: Customize the string representation of your object. When you use the `print()` function\n",
        "#   or convert an object to a string using `str()`, this method will be called to return a meaningful\n",
        "#   string representation of your object's data.\n",
        "# - __add__: Override the behavior of the '+' operator for your objects. It allows you to define\n",
        "#   how instances of your class are added together, making your class more adaptable and user-friendly\n",
        "#   for arithmetic-like operations.\n"
      ],
      "metadata": {
        "colab": {
          "base_uri": "https://localhost:8080/"
        },
        "id": "0h1hU4Ys-bHI",
        "outputId": "54569a1d-8aed-441a-812d-fe94e7df6c4a"
      },
      "execution_count": null,
      "outputs": [
        {
          "output_type": "stream",
          "name": "stdout",
          "text": [
            "Point(1, 2)\n",
            "Point(4, 6)\n"
          ]
        }
      ]
    },
    {
      "cell_type": "markdown",
      "source": [
        "### **Question 12 : Create a decorator that measures and prints the execution time of a function.**"
      ],
      "metadata": {
        "id": "x9NRzEZV-xa_"
      }
    },
    {
      "cell_type": "code",
      "source": [
        "import time\n",
        "\n",
        "def timeit(func):\n",
        "  \"\"\"\n",
        "  Decorator to measure and print the execution time of a function.\n",
        "  \"\"\"\n",
        "  def wrapper(*args, **kwargs):\n",
        "    start_time = time.time()\n",
        "    result = func(*args, **kwargs)\n",
        "    end_time = time.time()\n",
        "    execution_time = end_time - start_time\n",
        "    print(f\"Function '{func.__name__}' took {execution_time:.4f} seconds to execute.\")\n",
        "    return result\n",
        "  return wrapper\n",
        "\n",
        "\n",
        "@timeit\n",
        "def my_function():\n",
        "  # Simulate some work\n",
        "  time.sleep(1)\n",
        "\n",
        "\n",
        "my_function()\n"
      ],
      "metadata": {
        "colab": {
          "base_uri": "https://localhost:8080/"
        },
        "id": "6w_BkHBc-wC2",
        "outputId": "79e4cbe2-09f6-4e45-85b3-c40b95c8d041"
      },
      "execution_count": null,
      "outputs": [
        {
          "output_type": "stream",
          "name": "stdout",
          "text": [
            "Function 'my_function' took 1.0016 seconds to execute.\n"
          ]
        }
      ]
    },
    {
      "cell_type": "markdown",
      "source": [
        "### **Question 13 : Explain the concept of the Diamond Problem in multiple inheritance. How does Python resolve it?**"
      ],
      "metadata": {
        "id": "SmKcEkni-8M0"
      }
    },
    {
      "cell_type": "code",
      "source": [
        "# The Diamond Problem in Multiple Inheritance\n",
        "\n",
        "# The diamond problem occurs in multiple inheritance when a class inherits from two or more classes\n",
        "# that have a common ancestor. This creates an ambiguity in method resolution, as the interpreter needs\n",
        "# to determine which version of a method to call if it is overridden in multiple parent classes.\n",
        "\n",
        "\n",
        "class A:\n",
        "    def method(self):\n",
        "        print(\"Method from A\")\n",
        "\n",
        "\n",
        "class B(A):\n",
        "    def method(self):\n",
        "        print(\"Method from B\")\n",
        "\n",
        "\n",
        "class C(A):\n",
        "    def method(self):\n",
        "        print(\"Method from C\")\n",
        "\n",
        "\n",
        "class D(B, C):\n",
        "    pass\n",
        "\n",
        "\n",
        "# In this example, D inherits from B and C, both of which inherit from A.\n",
        "# If D calls method, which one should it call?\n",
        "\n",
        "d = D()\n",
        "d.method()\n",
        "\n",
        "\n",
        "# Python resolves the diamond problem using Method Resolution Order (MRO).\n",
        "# The MRO determines the order in which parent classes are searched for methods.\n",
        "# It follows a specific algorithm to ensure that methods are called in a consistent and predictable\n",
        "# way, preventing ambiguity.\n",
        "\n",
        "# In Python 3, the C3 linearization algorithm is used for MRO calculation.\n",
        "# It guarantees that the following rules are followed:\n",
        "# 1. Child classes precede parent classes in the MRO.\n",
        "# 2. The order of parent classes specified in the class definition is preserved.\n",
        "# 3. The MRO should be a linearization, which means that if a class inherits from multiple classes,\n",
        "#   the order of those classes in the MRO should be consistent with the order in which they are\n",
        "#   specified in the class definition.\n",
        "\n",
        "# In the example above, the MRO for D is D, B, C, A, object.\n",
        "# Thus, when `d.method()` is called, it first searches for `method` in D, then in B, then in C, and finally in A.\n",
        "# The first occurrence of `method` is found in B, which is why \"Method from B\" is printed.\n"
      ],
      "metadata": {
        "colab": {
          "base_uri": "https://localhost:8080/"
        },
        "id": "gk5gFd-U_H8D",
        "outputId": "b6d033c1-efc8-4baf-ac03-a8a8a3c2a2a7"
      },
      "execution_count": null,
      "outputs": [
        {
          "output_type": "stream",
          "name": "stdout",
          "text": [
            "Method from B\n"
          ]
        }
      ]
    },
    {
      "cell_type": "markdown",
      "source": [
        "### **Question 14 : Write a class method that keeps track of the number of instances created from a class.**"
      ],
      "metadata": {
        "id": "r4csDdG9ABpH"
      }
    },
    {
      "cell_type": "code",
      "source": [
        "class MyClass:\n",
        "    instance_count = 0\n",
        "\n",
        "    def __init__(self):\n",
        "        MyClass.instance_count += 1\n",
        "\n",
        "    @classmethod\n",
        "    def get_instance_count(cls):\n",
        "        return cls.instance_count\n",
        "\n",
        "\n",
        "obj1 = MyClass()\n",
        "obj2 = MyClass()\n",
        "obj3 = MyClass()\n",
        "\n",
        "print(MyClass.get_instance_count())\n"
      ],
      "metadata": {
        "colab": {
          "base_uri": "https://localhost:8080/"
        },
        "id": "fhVtJNtr_wdm",
        "outputId": "7c309110-77b5-4e7b-dae8-20807f96d373"
      },
      "execution_count": null,
      "outputs": [
        {
          "output_type": "stream",
          "name": "stdout",
          "text": [
            "3\n"
          ]
        }
      ]
    },
    {
      "cell_type": "markdown",
      "source": [
        "### **Question 15 : Implement a static method in a class that checks if a given year is a leap year.**"
      ],
      "metadata": {
        "id": "-j-7P0XEBM4l"
      }
    },
    {
      "cell_type": "code",
      "source": [
        "class DateUtils:\n",
        "    @staticmethod\n",
        "    def is_leap_year(year):\n",
        "        \"\"\"\n",
        "        Checks if a given year is a leap year.\n",
        "        \"\"\"\n",
        "        if year % 4 == 0:\n",
        "            if year % 100 == 0:\n",
        "                if year % 400 == 0:\n",
        "                    return True\n",
        "                else:\n",
        "                    return False\n",
        "            else:\n",
        "                return True\n",
        "        else:\n",
        "            return False\n",
        "\n",
        "\n",
        "# Example usage\n",
        "year = 2024\n",
        "if DateUtils.is_leap_year(year):\n",
        "    print(f\"{year} is a leap year.\")\n",
        "else:\n",
        "    print(f\"{year} is not a leap year.\")\n"
      ],
      "metadata": {
        "colab": {
          "base_uri": "https://localhost:8080/"
        },
        "id": "KBTJTeMwBIgr",
        "outputId": "a6c92a6b-3d29-427d-a0e4-db2c32c34e0b"
      },
      "execution_count": null,
      "outputs": [
        {
          "output_type": "stream",
          "name": "stdout",
          "text": [
            "2024 is a leap year.\n"
          ]
        }
      ]
    },
    {
      "cell_type": "code",
      "source": [],
      "metadata": {
        "id": "-Zt5DG9PBhVd"
      },
      "execution_count": null,
      "outputs": []
    }
  ]
}